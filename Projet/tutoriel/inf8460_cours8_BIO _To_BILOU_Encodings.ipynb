{
 "cells": [
  {
   "cell_type": "markdown",
   "id": "a927712c",
   "metadata": {},
   "source": [
    "# BIO vers BILOU"
   ]
  },
  {
   "cell_type": "markdown",
   "id": "680ae131",
   "metadata": {},
   "source": [
    "L'ensemble de données CoNLL 2003 NER utilise le format d'encodage BIO:\n",
    "B- pour le premier jeton d'une entité nommée,\n",
    "I- pour les jetons à l'intérieur d'une entité nommée\n",
    "O- pour les jetons à l'extérieur de l'entité nommée\n",
    "\n",
    "Le format BIOLU [Ratinov and Roth, 2009] ou BILOU permet généralement d'obtenir de meilleures performances avec deux étiquettes supplémentaires:\n",
    "\n",
    "L- pour le dernier jeton d'une entité \n",
    "U- pour les entités de longueur 1.\n",
    "\n",
    "Ce notebook convertit un fichier au format BIO à un fichier au format BIOLU."
   ]
  },
  {
   "cell_type": "code",
   "execution_count": 2,
   "id": "b17433d8",
   "metadata": {},
   "outputs": [],
   "source": [
    "input_file = \"eng.toy.txt\" \n",
    "output_file = \"eng.bilou.txt\"\n"
   ]
  },
  {
   "cell_type": "code",
   "execution_count": 3,
   "id": "df8d179c",
   "metadata": {},
   "outputs": [],
   "source": [
    "def read_file(input_file):\n",
    "    with open(input_file, 'rb') as f:\n",
    "        return f.read().decode('ASCII').split('\\n')\n",
    "\n",
    "\n"
   ]
  },
  {
   "cell_type": "code",
   "execution_count": 4,
   "id": "ee9eea30",
   "metadata": {},
   "outputs": [],
   "source": [
    "def write_line(new_label: str, prev_label: str, line_content: list, output_file):\n",
    "    new_iob = new_label + prev_label\n",
    "    line_content[3] = new_iob\n",
    "    current_line = ' '.join(line_content)\n",
    "    output_file.write(current_line + '\\n')\n",
    "\n",
    "\n"
   ]
  },
  {
   "cell_type": "code",
   "execution_count": 5,
   "id": "e3c28e34",
   "metadata": {},
   "outputs": [],
   "source": [
    "def convert(input_file, output_path):\n",
    "    output_file = open(output_path, 'w')\n",
    "\n",
    "    for i in range(len(input_file) + 1):\n",
    "\n",
    "        try:\n",
    "            current_line = input_file[i]\n",
    "\n",
    "            if '-DOCSTART-' in current_line:\n",
    "                output_file.write(current_line + '\\n')\n",
    "            elif len(current_line) == 0:\n",
    "                output_file.write(current_line + '\\n')\n",
    "\n",
    "            else:\n",
    "                prev_iob = None\n",
    "                next_iob = None\n",
    "                prev_line = None\n",
    "                next_line = None\n",
    "\n",
    "                try:\n",
    "                    prev_line = input_file[i - 1]\n",
    "                    next_line = input_file[i + 1]\n",
    "\n",
    "                    if len(prev_line) > 0:\n",
    "                        prev_line_content = prev_line.split()\n",
    "                        prev_iob = prev_line_content[3]\n",
    "\n",
    "                    if len(next_line) > 0:\n",
    "                        next_line_content = next_line.split()\n",
    "                        next_iob = next_line_content[3]\n",
    "\n",
    "                except IndexError:\n",
    "                    pass\n",
    "\n",
    "                current_line_content = current_line.split()\n",
    "                current_iob = current_line_content[3]\n",
    "\n",
    "                # Outside entities\n",
    "                if current_iob == 'O':\n",
    "                    output_file.write(current_line + '\\n')\n",
    "\n",
    "                # Unit length entities\n",
    "                elif (prev_iob == 'O' or len(prev_line) == 0) and next_iob == 'O':\n",
    "                    write_line('U-', current_iob[2:], current_line_content, output_file)\n",
    "\n",
    "                # First element of chunk\n",
    "                elif (prev_iob == 'O' or len(prev_line) == 0) and next_iob != 'O':\n",
    "                    write_line('B-', current_iob[2:], current_line_content, output_file)\n",
    "\n",
    "                # Last element of chunk\n",
    "                elif (prev_iob != 'O' and len(prev_line) != 0) and (next_iob == 'O' or len(next_line) == 0):\n",
    "                    write_line('L-', current_iob[2:], current_line_content, output_file)\n",
    "\n",
    "                # Inside a chunk\n",
    "                elif (prev_iob != 'O' and len(prev_line) != 0) and (next_iob != 'O' and len(next_line) != 0):\n",
    "                    write_line('I-', current_iob[2:], current_line_content, output_file)\n",
    "\n",
    "        except IndexError:\n",
    "            pass\n"
   ]
  },
  {
   "cell_type": "code",
   "execution_count": 6,
   "id": "b40b374d",
   "metadata": {},
   "outputs": [],
   "source": [
    "\n",
    "bio = read_file(input_file)\n",
    "convert(bio, output_file)"
   ]
  },
  {
   "cell_type": "code",
   "execution_count": null,
   "id": "c0633d24",
   "metadata": {},
   "outputs": [],
   "source": []
  }
 ],
 "metadata": {
  "kernelspec": {
   "display_name": "Python 3 (ipykernel)",
   "language": "python",
   "name": "python3"
  },
  "language_info": {
   "codemirror_mode": {
    "name": "ipython",
    "version": 3
   },
   "file_extension": ".py",
   "mimetype": "text/x-python",
   "name": "python",
   "nbconvert_exporter": "python",
   "pygments_lexer": "ipython3",
   "version": "3.7.9"
  }
 },
 "nbformat": 4,
 "nbformat_minor": 5
}
